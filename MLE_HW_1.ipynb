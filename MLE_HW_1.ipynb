{
  "nbformat": 4,
  "nbformat_minor": 0,
  "metadata": {
    "colab": {
      "provenance": []
    },
    "kernelspec": {
      "name": "python3",
      "display_name": "Python 3"
    },
    "language_info": {
      "name": "python"
    }
  },
  "cells": [
    {
      "cell_type": "markdown",
      "source": [
        "MLE Homework #1\n",
        "Travis Johnson\n",
        "662018371"
      ],
      "metadata": {
        "id": "Ml4QxDwMLZMn"
      }
    },
    {
      "cell_type": "code",
      "source": [
        "#Problem 1\n",
        "\n",
        "import numpy as np\n",
        "\n",
        "# Define the given vectors\n",
        "x1 = np.array([2, 3, 4, 8, 9])\n",
        "x2 = np.array([2, -3, -4, 89])\n",
        "\n",
        "# Part A\n",
        "# Number of features\n",
        "num_features_x1 = len(x1)\n",
        "num_features_x2 = len(x2)\n",
        "\n",
        "print(f\"Answer A:\")\n",
        "print(f\"Number of features in x1: {num_features_x1}\")\n",
        "print(f\"Number of features in x2: {num_features_x2}\")\n",
        "\n",
        "# Part B\n",
        "#Compute norms\n",
        "def compute_norms(vector):\n",
        "    L1_norm = np.sum(np.abs(vector))  # L1 norm\n",
        "    L2_norm = np.sqrt(np.sum(vector**2))  # L2 norm\n",
        "    L_inf_norm = np.max(np.abs(vector))  # L-infinity norm\n",
        "    return L1_norm, L2_norm, L_inf_norm\n",
        "\n",
        "L1_x1, L2_x1, L_inf_x1 = compute_norms(x1)\n",
        "L1_x2, L2_x2, L_inf_x2 = compute_norms(x2)\n",
        "\n",
        "print(f\"\\nAnswer B:\")\n",
        "print(f\"L1 norm of x1: {L1_x1}, L2 norm of x1: {L2_x1}, L-inf norm of x1: {L_inf_x1}\")\n",
        "print(f\"L1 norm of x2: {L1_x2}, L2 norm of x2: {L2_x2}, L-inf norm of x2: {L_inf_x2}\")\n"
      ],
      "metadata": {
        "colab": {
          "base_uri": "https://localhost:8080/",
          "height": 0
        },
        "id": "cVi2OL_XLnHl",
        "outputId": "522bbb9e-30bf-49fd-c5a7-19a70d294177"
      },
      "execution_count": 19,
      "outputs": [
        {
          "output_type": "stream",
          "name": "stdout",
          "text": [
            "Answer A:\n",
            "Number of features in x1: 5\n",
            "Number of features in x2: 4\n",
            "\n",
            "Answer B:\n",
            "L1 norm of x1: 26, L2 norm of x1: 13.19090595827292, L-inf norm of x1: 9\n",
            "L1 norm of x2: 98, L2 norm of x2: 89.16277250063504, L-inf norm of x2: 89\n"
          ]
        }
      ]
    },
    {
      "cell_type": "code",
      "source": [
        "#Problem 2\n",
        "\n",
        "# Input dimensions\n",
        "input_height = 1024\n",
        "input_width = 1024\n",
        "input_channels = 3  # RGB image has 3 channels\n",
        "\n",
        "# Output dimensions\n",
        "output_height = 64\n",
        "output_width = 64\n",
        "output_channels = 3  # Output is also a color image\n",
        "\n",
        "# Part A\n",
        "# Calculate the length of the input feature vector\n",
        "length_x = input_height * input_width * input_channels\n",
        "\n",
        "print(f\"Answer A:\")\n",
        "print(f\"Length of input feature vector x: {length_x}\")\n",
        "\n",
        "\n",
        "# Part B\n",
        "# Calculate the length of the output vector\n",
        "length_y = output_height * output_width * output_channels\n",
        "\n",
        "print(f\"\\nAnswer B:\")\n",
        "print(f\"Length of output vector y: {length_y}\")\n",
        "\n",
        "\n",
        "# Part C\n",
        "# Calculate the number of elements in matrix W and vector b\n",
        "num_elements_W = length_y * length_x  # W is (length_y x length_x)\n",
        "num_elements_b = length_y  # b has the same length as y\n",
        "\n",
        "print(f\"\\nAnswer C:\")\n",
        "print(f\"Number of elements in matrix W: {num_elements_W}\")\n",
        "print(f\"Number of elements in vector b: {num_elements_b}\")\n"
      ],
      "metadata": {
        "colab": {
          "base_uri": "https://localhost:8080/",
          "height": 0
        },
        "id": "meCUi2IvOczI",
        "outputId": "cc4b62c7-e3fc-4b8b-d2c1-7c14b3ebc18a"
      },
      "execution_count": 20,
      "outputs": [
        {
          "output_type": "stream",
          "name": "stdout",
          "text": [
            "Answer A:\n",
            "Length of input feature vector x: 3145728\n",
            "\n",
            "Answer B:\n",
            "Length of output vector y: 12288\n",
            "\n",
            "Answer C:\n",
            "Number of elements in matrix W: 38654705664\n",
            "Number of elements in vector b: 12288\n"
          ]
        }
      ]
    },
    {
      "cell_type": "code",
      "source": [
        "#Problem 3\n",
        "\n",
        "import numpy as np\n",
        "\n",
        "# Define the matrix W\n",
        "W = np.array([[1, -1],\n",
        "              [2,  0]])\n",
        "\n",
        "# 1-norm: maximum absolute column sum\n",
        "norm_1 = np.linalg.norm(W, 1)\n",
        "\n",
        "# Infinity norm: maximum absolute row sum\n",
        "norm_inf = np.linalg.norm(W, np.inf)\n",
        "\n",
        "# Frobenius norm: square root of sum of squares of all elements\n",
        "norm_F = np.linalg.norm(W, 'fro')\n",
        "\n",
        "# 2-norm: largest singular value\n",
        "norm_2 = np.linalg.norm(W, 2)\n",
        "\n",
        "# Printing the results\n",
        "print(f\"1-norm of W: {norm_1}\")\n",
        "print(f\"Infinity norm of W: {norm_inf}\")\n",
        "print(f\"Frobenius norm of W: {norm_F}\")\n",
        "print(f\"2-norm of W: {norm_2}\")\n"
      ],
      "metadata": {
        "colab": {
          "base_uri": "https://localhost:8080/",
          "height": 0
        },
        "id": "lr_W4dcZQMuy",
        "outputId": "c28b0506-ddbd-414a-8d1e-d5dc7cdc9ec9"
      },
      "execution_count": 21,
      "outputs": [
        {
          "output_type": "stream",
          "name": "stdout",
          "text": [
            "1-norm of W: 3.0\n",
            "Infinity norm of W: 2.0\n",
            "Frobenius norm of W: 2.449489742783178\n",
            "2-norm of W: 2.2882456112707374\n"
          ]
        }
      ]
    },
    {
      "cell_type": "code",
      "source": [
        "#Problem 4\n",
        "\n",
        "from sklearn.datasets import load_iris\n",
        "from sklearn.model_selection import train_test_split\n",
        "from sklearn.preprocessing import StandardScaler\n",
        "from sklearn.neighbors import KNeighborsClassifier\n",
        "from sklearn.metrics import accuracy_score\n",
        "\n",
        "# Loading the Iris dataset\n",
        "iris = load_iris()\n",
        "X = iris.data  # All 4 features\n",
        "y = iris.target  # Labels\n",
        "\n",
        "# Using 3/4 features\n",
        "X_selected = X[:, :3]  # Using the first three columns (first 3 features)\n",
        "\n",
        "# Splitting the dataset into training and testing sets\n",
        "X_train, X_test, y_train, y_test = train_test_split(X_selected, y, test_size=0.2, random_state=42)\n",
        "\n",
        "# Standardizing the features\n",
        "scaler = StandardScaler()\n",
        "X_train = scaler.fit_transform(X_train)\n",
        "X_test = scaler.transform(X_test)\n",
        "\n",
        "# Training a k-Nearest Neighbors (k-NN) classifier\n",
        "knn = KNeighborsClassifier(n_neighbors=5)\n",
        "knn.fit(X_train, y_train)\n",
        "\n",
        "# Calculating accuracy\n",
        "y_pred = knn.predict(X_test)\n",
        "accuracy = accuracy_score(y_test, y_pred)\n",
        "\n",
        "print(f\"Accuracy score using 3 features: {accuracy:.4f}\")\n"
      ],
      "metadata": {
        "colab": {
          "base_uri": "https://localhost:8080/",
          "height": 0
        },
        "id": "phQqjE4MQxq3",
        "outputId": "cf2bc669-5880-4662-ca0f-0a3c7cb0cc5b"
      },
      "execution_count": 22,
      "outputs": [
        {
          "output_type": "stream",
          "name": "stdout",
          "text": [
            "Accuracy score using 3 features: 0.9333\n"
          ]
        }
      ]
    },
    {
      "cell_type": "code",
      "source": [
        "#Problem 5\n",
        "\n",
        "import numpy as np\n",
        "from sklearn.model_selection import train_test_split\n",
        "from sklearn.metrics import mean_absolute_error\n",
        "import tensorflow as tf\n",
        "from tensorflow.keras.models import Sequential\n",
        "from tensorflow.keras.layers import Dense\n",
        "from tensorflow.keras.optimizers import Adam\n",
        "\n",
        "# Generating the dataset\n",
        "X = np.array([[i] for i in range(1, 101)])  # Integers from 1 to 100 as input\n",
        "y = np.array([[i ** (1/7)] for i in range(1, 101)])  # 7th root of each integer as target\n",
        "\n",
        "# Splitting the dataset into training and testing sets\n",
        "X_train, X_test, y_train, y_test = train_test_split(X, y, test_size=0.2, random_state=42)\n",
        "\n",
        "# Defining the neural network model\n",
        "model = Sequential([\n",
        "    Dense(10, input_dim=1, activation='relu'),  # Hidden layer with 10 neurons\n",
        "    Dense(10, activation='relu'),               # Another hidden layer with 10 neurons\n",
        "    Dense(1)                                    # Output layer with 1 neuron\n",
        "])\n",
        "\n",
        "# Compiling the model\n",
        "model.compile(optimizer=Adam(learning_rate=0.01), loss='mse', metrics=['mae'])\n",
        "\n",
        "# Training the model\n",
        "model.fit(X_train, y_train, epochs=500, batch_size=10, verbose=0)\n",
        "\n",
        "# Predicting on the test set\n",
        "y_pred = model.predict(X_test)\n",
        "\n",
        "# Evaluating the model\n",
        "mae = mean_absolute_error(y_test, y_pred)\n",
        "print(f\"Mean Absolute Error: {mae:.4f}\")\n",
        "\n",
        "# Displaying sample predictions\n",
        "print(\"\\nSample predictions:\")\n",
        "for i in range(5):\n",
        "    print(f\"Input: {X_test[i][0]}, True 7th root: {y_test[i][0]:.4f}, Predicted: {y_pred[i][0]:.4f}\")\n"
      ],
      "metadata": {
        "colab": {
          "base_uri": "https://localhost:8080/",
          "height": 0
        },
        "id": "DWKsWToqU6j5",
        "outputId": "8298ef94-e2fa-438c-f134-bd88c02f78cd"
      },
      "execution_count": 23,
      "outputs": [
        {
          "output_type": "stream",
          "name": "stderr",
          "text": [
            "/usr/local/lib/python3.10/dist-packages/keras/src/layers/core/dense.py:87: UserWarning: Do not pass an `input_shape`/`input_dim` argument to a layer. When using Sequential models, prefer using an `Input(shape)` object as the first layer in the model instead.\n",
            "  super().__init__(activity_regularizer=activity_regularizer, **kwargs)\n"
          ]
        },
        {
          "output_type": "stream",
          "name": "stdout",
          "text": [
            "\u001b[1m1/1\u001b[0m \u001b[32m━━━━━━━━━━━━━━━━━━━━\u001b[0m\u001b[37m\u001b[0m \u001b[1m0s\u001b[0m 51ms/step\n",
            "Mean Absolute Error: 0.0513\n",
            "\n",
            "Sample predictions:\n",
            "Input: 84, True 7th root: 1.8832, Predicted: 1.8343\n",
            "Input: 54, True 7th root: 1.7680, Predicted: 1.7025\n",
            "Input: 71, True 7th root: 1.8385, Predicted: 1.7772\n",
            "Input: 46, True 7th root: 1.7280, Predicted: 1.6674\n",
            "Input: 45, True 7th root: 1.7226, Predicted: 1.6630\n"
          ]
        }
      ]
    },
    {
      "cell_type": "code",
      "source": [
        "# Problem 6\n",
        "\n",
        "import numpy as np\n",
        "import pandas as pd\n",
        "from sklearn.model_selection import train_test_split\n",
        "from sklearn.metrics import mean_absolute_error\n",
        "import tensorflow as tf\n",
        "from tensorflow.keras.models import Sequential\n",
        "from tensorflow.keras.layers import Dense\n",
        "from tensorflow.keras.optimizers import Adam\n",
        "from sklearn.datasets import load_iris\n",
        "\n",
        "# Loading the Iris dataset\n",
        "iris = load_iris()\n",
        "data = pd.DataFrame(iris.data, columns=iris.feature_names)\n",
        "target = pd.DataFrame(iris.target, columns=['target'])\n",
        "\n",
        "# Extracting sepal length (input) and petal length (output)\n",
        "X = data.iloc[:, 0].values.reshape(-1, 1)  # Sepal length\n",
        "y = data.iloc[:, 2].values.reshape(-1, 1)  # Petal length\n",
        "\n",
        "# Splitting the dataset into training and testing sets\n",
        "X_train, X_test, y_train, y_test = train_test_split(X, y, test_size=0.2, random_state=42)\n",
        "\n",
        "# Defining the neural network model\n",
        "model = Sequential([\n",
        "    Dense(10, input_dim=1, activation='relu'),  # Hidden layer with 10 neurons\n",
        "    Dense(10, activation='relu'),               # Another hidden layer with 10 neurons\n",
        "    Dense(1)                                    # Output layer with 1 neuron\n",
        "])\n",
        "\n",
        "# Compiling the model\n",
        "model.compile(optimizer=Adam(learning_rate=0.01), loss='mse', metrics=['mae'])\n",
        "\n",
        "# Training the model\n",
        "model.fit(X_train, y_train, epochs=500, batch_size=10, verbose=0)\n",
        "\n",
        "# Predicting on the test set\n",
        "y_pred = model.predict(X_test)\n",
        "\n",
        "# Evaluating the model\n",
        "mae = mean_absolute_error(y_test, y_pred)\n",
        "print(f\"Mean Absolute Error: {mae:.4f}\")\n",
        "\n",
        "# Displaying sample predictions\n",
        "print(\"\\nSample predictions:\")\n",
        "for i in range(5):\n",
        "    print(f\"Sepal Length: {X_test[i][0]:.1f}, True Petal Length: {y_test[i][0]:.2f}, Predicted: {y_pred[i][0]:.2f}\")\n",
        "\n",
        "\n"
      ],
      "metadata": {
        "colab": {
          "base_uri": "https://localhost:8080/",
          "height": 0
        },
        "id": "PCRFmqEuVGje",
        "outputId": "fd15b3ca-8245-4018-b583-a21089e5568b"
      },
      "execution_count": 24,
      "outputs": [
        {
          "output_type": "stream",
          "name": "stderr",
          "text": [
            "/usr/local/lib/python3.10/dist-packages/keras/src/layers/core/dense.py:87: UserWarning: Do not pass an `input_shape`/`input_dim` argument to a layer. When using Sequential models, prefer using an `Input(shape)` object as the first layer in the model instead.\n",
            "  super().__init__(activity_regularizer=activity_regularizer, **kwargs)\n"
          ]
        },
        {
          "output_type": "stream",
          "name": "stdout",
          "text": [
            "\u001b[1m1/1\u001b[0m \u001b[32m━━━━━━━━━━━━━━━━━━━━\u001b[0m\u001b[37m\u001b[0m \u001b[1m0s\u001b[0m 51ms/step\n",
            "Mean Absolute Error: 0.6573\n",
            "\n",
            "Sample predictions:\n",
            "Sepal Length: 6.1, True Petal Length: 4.70, Predicted: 4.55\n",
            "Sepal Length: 5.7, True Petal Length: 1.70, Predicted: 3.80\n",
            "Sepal Length: 7.7, True Petal Length: 6.90, Predicted: 7.56\n",
            "Sepal Length: 6.0, True Petal Length: 4.50, Predicted: 4.36\n",
            "Sepal Length: 6.8, True Petal Length: 4.80, Predicted: 5.87\n"
          ]
        }
      ]
    }
  ]
}